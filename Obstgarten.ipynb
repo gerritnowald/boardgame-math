{
 "cells": [
  {
   "cell_type": "markdown",
   "metadata": {},
   "source": [
    "# Obstgarten"
   ]
  },
  {
   "cell_type": "code",
   "execution_count": 12,
   "metadata": {},
   "outputs": [],
   "source": [
    "from random import randrange"
   ]
  },
  {
   "cell_type": "code",
   "execution_count": 13,
   "metadata": {},
   "outputs": [
    {
     "data": {
      "text/plain": [
       "55.791999999999994"
      ]
     },
     "execution_count": 13,
     "metadata": {},
     "output_type": "execute_result"
    }
   ],
   "source": [
    "N = 100000  # simulierte Spiele\n",
    "\n",
    "wins = 0    # Initialisierung\n",
    "\n",
    "# alle Spiele\n",
    "for _ in range(N):\n",
    "\n",
    "    # Initialiserung\n",
    "    Fruechte = [4, 4, 4, 4]\n",
    "    Rabe   = 0\n",
    "\n",
    "    # 1 Spiel\n",
    "    while max(Fruechte) > 0 or Rabe < 5:\n",
    "        # Würfeln\n",
    "        Augen = randrange(6)\n",
    "\n",
    "        # Früchte\n",
    "        if Augen < 4 and Fruechte[Augen] > 0:\n",
    "            Fruechte[Augen] -= 1\n",
    "\n",
    "        # Joker\n",
    "        if Augen == 4:\n",
    "            # index = Fruechte.index(max(Fruechte))\n",
    "\n",
    "            min_value = float('inf')\n",
    "            index = -1\n",
    "            for i, value in enumerate(Fruechte):\n",
    "                if value > 0 and value < min_value:\n",
    "                    min_value = value\n",
    "                    index = i\n",
    "            \n",
    "            Fruechte[index] -= 1\n",
    "\n",
    "        # Sieg\n",
    "        if max(Fruechte) == 0:\n",
    "            wins += 1\n",
    "            break\n",
    "        \n",
    "        # Rabe\n",
    "        if Augen == 5:\n",
    "            Rabe += 1\n",
    "\n",
    "        # Niederlage\n",
    "        if Rabe == 5:\n",
    "            break\n",
    "\n",
    "# Gewinn-Wahrscheinlichkeit\n",
    "wins / N * 100"
   ]
  }
 ],
 "metadata": {
  "kernelspec": {
   "display_name": "Python 3",
   "language": "python",
   "name": "python3"
  },
  "language_info": {
   "codemirror_mode": {
    "name": "ipython",
    "version": 3
   },
   "file_extension": ".py",
   "mimetype": "text/x-python",
   "name": "python",
   "nbconvert_exporter": "python",
   "pygments_lexer": "ipython3",
   "version": "3.11.2"
  }
 },
 "nbformat": 4,
 "nbformat_minor": 2
}
