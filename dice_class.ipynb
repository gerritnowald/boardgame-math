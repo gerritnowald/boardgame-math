{
 "cells": [
  {
   "cell_type": "markdown",
   "id": "a70bfc1b-5fce-4ae7-83f6-2e469c7ce247",
   "metadata": {},
   "source": [
    "# Dice class"
   ]
  },
  {
   "cell_type": "code",
   "execution_count": 1,
   "id": "078d09be-752d-4994-a31f-b757a898a353",
   "metadata": {},
   "outputs": [],
   "source": [
    "from random import randrange"
   ]
  },
  {
   "cell_type": "markdown",
   "id": "f235a3d1-f405-4e68-8f98-b950dd2b7a98",
   "metadata": {},
   "source": [
    "- define class"
   ]
  },
  {
   "cell_type": "code",
   "execution_count": 2,
   "id": "8927ca1e-4c59-44e5-ba89-d08741927dd8",
   "metadata": {},
   "outputs": [],
   "source": [
    "class dice:\n",
    "    \n",
    "    def __init__(self,sides):\n",
    "        self.sides = sides\n",
    "    \n",
    "    def __call__(self):\n",
    "        return randrange(self.sides) + 1\n",
    "    \n",
    "    def __str__(self):\n",
    "        return f'{self.sides}-sided die'\n",
    "    "
   ]
  },
  {
   "cell_type": "markdown",
   "id": "8b79a989-b7e9-42ae-842f-b3c7c7bbe94d",
   "metadata": {},
   "source": [
    "- examples"
   ]
  },
  {
   "cell_type": "code",
   "execution_count": 16,
   "id": "0a8e2b04-b7e3-42f5-9c8a-6b5fbc651038",
   "metadata": {},
   "outputs": [
    {
     "name": "stdout",
     "output_type": "stream",
     "text": [
      "6-sided die\n",
      "3\n",
      "1\n"
     ]
    }
   ],
   "source": [
    "D6 = dice(6)\n",
    "print(D6)\n",
    "\n",
    "print(D6())\n",
    "print(D6())"
   ]
  },
  {
   "cell_type": "code",
   "execution_count": 4,
   "id": "23097f07-3507-4546-9dab-effd71e3ec35",
   "metadata": {
    "jp-MarkdownHeadingCollapsed": true,
    "tags": []
   },
   "outputs": [
    {
     "name": "stdout",
     "output_type": "stream",
     "text": [
      "20-sided die\n",
      "17\n",
      "19\n"
     ]
    }
   ],
   "source": [
    "D20 = dice(20)\n",
    "print(D20)\n",
    "\n",
    "print(D20())\n",
    "print(D20())"
   ]
  }
 ],
 "metadata": {
  "kernelspec": {
   "display_name": "Python 3 (ipykernel)",
   "language": "python",
   "name": "python3"
  },
  "language_info": {
   "codemirror_mode": {
    "name": "ipython",
    "version": 3
   },
   "file_extension": ".py",
   "mimetype": "text/x-python",
   "name": "python",
   "nbconvert_exporter": "python",
   "pygments_lexer": "ipython3",
   "version": "3.10.1"
  }
 },
 "nbformat": 4,
 "nbformat_minor": 5
}
