{
 "cells": [
  {
   "cell_type": "markdown",
   "id": "3bf75b53-c988-409b-8d76-93acd761b895",
   "metadata": {},
   "source": [
    "# Probabilities of dice totals\n",
    "plots the probability distribution of the eye total of arbitrary many, arbitrary-sided dice"
   ]
  },
  {
   "cell_type": "code",
   "execution_count": 1,
   "id": "d09940d2-8f5e-4aa2-8c76-6da2cca53f54",
   "metadata": {},
   "outputs": [],
   "source": [
    "import itertools\n",
    "import numpy as np\n",
    "from matplotlib import pyplot as plt\n",
    "from matplotlib.ticker import MaxNLocator"
   ]
  },
  {
   "cell_type": "markdown",
   "id": "5f38ab23-ede9-4260-a92d-a359f6a8b6d5",
   "metadata": {},
   "source": [
    "## input\n",
    "list of dice; e.g. [6,6,20]: two 6-sided dice, one 20-sided die"
   ]
  },
  {
   "cell_type": "code",
   "execution_count": 2,
   "id": "1f77a333-fb9c-4a95-bcc0-87b24c015c77",
   "metadata": {},
   "outputs": [],
   "source": [
    "dice = [6,6,20]"
   ]
  },
  {
   "cell_type": "markdown",
   "id": "a42f1d04-9668-48c1-9ca5-06bcd9056ecf",
   "metadata": {},
   "source": [
    "## calculation"
   ]
  },
  {
   "cell_type": "code",
   "execution_count": 3,
   "id": "fbb2500f-5fbc-435d-a001-064f0a90222d",
   "metadata": {},
   "outputs": [],
   "source": [
    "# list of lists of all possible eyes for each die\n",
    "eyes = [ [eye+1 for eye in range(die)] for die in dice ]\n",
    "\n",
    "# all possible result combinations\n",
    "combinations = list(itertools.product(*eyes))\n",
    "\n",
    "# sum of eyes for each combination\n",
    "eyesum = [sum(combination) for combination in combinations]\n",
    "\n",
    "# probability distribution\n",
    "N = np.histogram(eyesum, bins = np.arange( min(eyesum), min(eyesum) + len(set(eyesum)) + 1, 1 ), density=True)"
   ]
  },
  {
   "cell_type": "markdown",
   "id": "616ecc5d-05d0-4038-be44-90f9e6915db8",
   "metadata": {},
   "source": [
    "## plot"
   ]
  },
  {
   "cell_type": "code",
   "execution_count": 4,
   "id": "20650e6a-9084-402c-9592-6b5a0ac51cf1",
   "metadata": {},
   "outputs": [
    {
     "data": {
      "text/plain": [
       "<Figure size 432x288 with 0 Axes>"
      ]
     },
     "metadata": {},
     "output_type": "display_data"
    },
    {
     "data": {
      "image/png": "[encoded data removed]",
      "text/plain": [
       "<Figure size 432x288 with 1 Axes>"
      ]
     },
     "metadata": {
      "needs_background": "light"
     },
     "output_type": "display_data"
    }
   ],
   "source": [
    "plt.close('all')\n",
    "\n",
    "plt.figure()\n",
    "# plt.style.use('dark_background')\n",
    "\n",
    "ax = plt.figure().gca()\n",
    "plt.bar(N[1][:-1], N[0]*100, width=0.8, color='gold' )\n",
    "plt.title(f'probabilities of eye totals, dice: {dice}')\n",
    "plt.xlabel('eye sum')\n",
    "plt.ylabel('probability / %')\n",
    "ax.xaxis.set_major_locator(MaxNLocator(integer=True))   # integer ticks\n",
    "\n",
    "plt.tight_layout()\n",
    "\n",
    "plt.show()"
   ]
  }
 ],
 "metadata": {
  "kernelspec": {
   "display_name": "Python 3",
   "language": "python",
   "name": "python3"
  },
  "language_info": {
   "codemirror_mode": {
    "name": "ipython",
    "version": 3
   },
   "file_extension": ".py",
   "mimetype": "text/x-python",
   "name": "python",
   "nbconvert_exporter": "python",
   "pygments_lexer": "ipython3",
   "version": "3.8.9"
  }
 },
 "nbformat": 4,
 "nbformat_minor": 5
}
