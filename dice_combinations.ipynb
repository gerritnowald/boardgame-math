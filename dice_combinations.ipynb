{
 "cells": [
  {
   "cell_type": "markdown",
   "id": "3bf75b53-c988-409b-8d76-93acd761b895",
   "metadata": {},
   "source": [
    "# Probabilities of dice totals\n",
    "    by Gerrit Nowald\n",
    "In the boardgame [The Settlers of Catan](https://simple.wikipedia.org/wiki/The_Settlers_of_Catan), the ressources are distributed based on the total of two 6-sided dice. The total 7 moves the bandit, which is used to steal ressources from other players. The other totals, ranging from 2 to 12, allow players to gain ressources.\n",
    "\n",
    "To get the probability of a dice total, the number it occurs is divided by the number of all possible combinations. E.g. for two 6-sided dice, there are a total of 6*6=36 possible combinations.\n",
    "\n",
    "This Notebook shows a Python implementation to calculate and plot the probability distribution for all dice totals, which is also applicable to arbitrary many, arbitrary-sided dice.\n",
    "\n",
    "See also this blog post: https://gerritnowald.wordpress.com/2022/04/20/probabilities-of-dice-totals/"
   ]
  },
  {
   "cell_type": "code",
   "execution_count": 1,
   "id": "d09940d2-8f5e-4aa2-8c76-6da2cca53f54",
   "metadata": {},
   "outputs": [],
   "source": [
    "import itertools\n",
    "import numpy as np\n",
    "from matplotlib import pyplot as plt\n",
    "from matplotlib.ticker import MaxNLocator"
   ]
  },
  {
   "cell_type": "markdown",
   "id": "5f38ab23-ede9-4260-a92d-a359f6a8b6d5",
   "metadata": {},
   "source": [
    "## input: sides of dice"
   ]
  },
  {
   "cell_type": "code",
   "execution_count": 2,
   "id": "6a927ed4-74cb-459e-b85c-7d0befaceb52",
   "metadata": {},
   "outputs": [],
   "source": [
    "dice = [6, 6]"
   ]
  },
  {
   "cell_type": "markdown",
   "id": "0bf7779b-027c-4b59-bc99-346225ddbe08",
   "metadata": {},
   "source": [
    "## calculation\n",
    "- list of lists of all possible eyes for each die:"
   ]
  },
  {
   "cell_type": "code",
   "execution_count": 3,
   "id": "78e72bc7-bde9-4794-8699-afe8b730c495",
   "metadata": {},
   "outputs": [
    {
     "name": "stdout",
     "output_type": "stream",
     "text": [
      "[[1, 2, 3, 4, 5, 6], [1, 2, 3, 4, 5, 6]]\n"
     ]
    }
   ],
   "source": [
    "eyes = [ [eye+1 for eye in range(die)] for die in dice ]\n",
    "print(eyes)"
   ]
  },
  {
   "cell_type": "markdown",
   "id": "f9e8c98c-e0bd-4e7a-bb33-b3236724209c",
   "metadata": {},
   "source": [
    "- all possible result combinations:"
   ]
  },
  {
   "cell_type": "code",
   "execution_count": 8,
   "id": "0a11f10a-1ade-45a8-ac1a-839fe2819706",
   "metadata": {},
   "outputs": [
    {
     "name": "stdout",
     "output_type": "stream",
     "text": [
      "[(1, 1), (1, 2), (1, 3), (1, 4), (1, 5), (1, 6), (2, 1), (2, 2), (2, 3), (2, 4), (2, 5), (2, 6), (3, 1), (3, 2), (3, 3), (3, 4), (3, 5), (3, 6), (4, 1), (4, 2), (4, 3), (4, 4), (4, 5), (4, 6), (5, 1), (5, 2), (5, 3), (5, 4), (5, 5), (5, 6), (6, 1), (6, 2), (6, 3), (6, 4), (6, 5), (6, 6)]\n"
     ]
    }
   ],
   "source": [
    "combinations = list(itertools.product(*eyes))\n",
    "print(combinations)"
   ]
  },
  {
   "cell_type": "markdown",
   "id": "52292d1b-aaf6-425e-929d-02bfbae38740",
   "metadata": {},
   "source": [
    "- dice total for each combination:"
   ]
  },
  {
   "cell_type": "code",
   "execution_count": 9,
   "id": "316217e4-ecc7-47ce-a4e1-95dfe37ae50e",
   "metadata": {},
   "outputs": [
    {
     "name": "stdout",
     "output_type": "stream",
     "text": [
      "[2, 3, 4, 5, 6, 7, 3, 4, 5, 6, 7, 8, 4, 5, 6, 7, 8, 9, 5, 6, 7, 8, 9, 10, 6, 7, 8, 9, 10, 11, 7, 8, 9, 10, 11, 12]\n"
     ]
    }
   ],
   "source": [
    "dicetotal = [sum(combination) for combination in combinations]\n",
    "print(dicetotal)"
   ]
  },
  {
   "cell_type": "markdown",
   "id": "9c765993-b4ee-4886-b63e-93eb60a5aa5b",
   "metadata": {},
   "source": [
    "- probability distribution:"
   ]
  },
  {
   "cell_type": "code",
   "execution_count": 6,
   "id": "480bca06-b0a2-43b6-bfb3-93297c5c78bf",
   "metadata": {},
   "outputs": [],
   "source": [
    "N = np.histogram(dicetotal, bins = np.arange(min(dicetotal), min(dicetotal) + len(set(dicetotal)) + 1), density=True)"
   ]
  },
  {
   "cell_type": "markdown",
   "id": "616ecc5d-05d0-4038-be44-90f9e6915db8",
   "metadata": {},
   "source": [
    "## plot probability distribution"
   ]
  },
  {
   "cell_type": "code",
   "execution_count": 11,
   "id": "20650e6a-9084-402c-9592-6b5a0ac51cf1",
   "metadata": {},
   "outputs": [
    {
     "data": {
      "image/png": "[encoded data removed]",
      "text/plain": [
       "<Figure size 432x288 with 1 Axes>"
      ]
     },
     "metadata": {
      "needs_background": "light"
     },
     "output_type": "display_data"
    }
   ],
   "source": [
    "ax = plt.figure().gca()\n",
    "plt.bar(N[1][:-1], N[0]*100, width=0.8)\n",
    "plt.title(f'probability distribution for dice: {dice}')\n",
    "plt.xlabel('dice totals')\n",
    "plt.ylabel('probability / %')\n",
    "ax.xaxis.set_major_locator(MaxNLocator(integer=True))   # integer ticks"
   ]
  },
  {
   "cell_type": "markdown",
   "id": "729b5f5c-bd63-4486-9b7a-fe67ede2ff34",
   "metadata": {},
   "source": [
    "The probability is highest for the total 7 and decreases towards the extreme values. The probability distribution is symmetrical, e.g. getting a total of 4 is equally likely as getting a total of 10."
   ]
  }
 ],
 "metadata": {
  "kernelspec": {
   "display_name": "Python 3 (ipykernel)",
   "language": "python",
   "name": "python3"
  },
  "language_info": {
   "codemirror_mode": {
    "name": "ipython",
    "version": 3
   },
   "file_extension": ".py",
   "mimetype": "text/x-python",
   "name": "python",
   "nbconvert_exporter": "python",
   "pygments_lexer": "ipython3",
   "version": "3.10.1"
  }
 },
 "nbformat": 4,
 "nbformat_minor": 5
}
