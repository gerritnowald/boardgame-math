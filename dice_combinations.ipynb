{
 "cells": [
  {
   "cell_type": "markdown",
   "id": "3bf75b53-c988-409b-8d76-93acd761b895",
   "metadata": {},
   "source": [
    "# Probabilities of dice totals\n",
    "plots the probability distribution of the eye-total of arbitrary many, arbitrary-sided dice"
   ]
  },
  {
   "cell_type": "code",
   "execution_count": 1,
   "id": "d09940d2-8f5e-4aa2-8c76-6da2cca53f54",
   "metadata": {},
   "outputs": [],
   "source": [
    "import itertools\n",
    "import numpy as np\n",
    "from matplotlib import pyplot as plt\n",
    "from matplotlib.ticker import MaxNLocator"
   ]
  },
  {
   "cell_type": "markdown",
   "id": "5f38ab23-ede9-4260-a92d-a359f6a8b6d5",
   "metadata": {},
   "source": [
    "## input: sides of dice"
   ]
  },
  {
   "cell_type": "code",
   "execution_count": 2,
   "id": "6a927ed4-74cb-459e-b85c-7d0befaceb52",
   "metadata": {},
   "outputs": [],
   "source": [
    "dice = [6, 6, 20]"
   ]
  },
  {
   "cell_type": "markdown",
   "id": "0bf7779b-027c-4b59-bc99-346225ddbe08",
   "metadata": {},
   "source": [
    "## calculation\n",
    "- list of lists of all possible eyes for each die:"
   ]
  },
  {
   "cell_type": "code",
   "execution_count": 3,
   "id": "78e72bc7-bde9-4794-8699-afe8b730c495",
   "metadata": {},
   "outputs": [
    {
     "name": "stdout",
     "output_type": "stream",
     "text": [
      "[[1, 2, 3, 4, 5, 6], [1, 2, 3, 4, 5, 6], [1, 2, 3, 4, 5, 6, 7, 8, 9, 10, 11, 12, 13, 14, 15, 16, 17, 18, 19, 20]]\n"
     ]
    }
   ],
   "source": [
    "eyes = [ [eye+1 for eye in range(die)] for die in dice ]\n",
    "print(eyes)"
   ]
  },
  {
   "cell_type": "markdown",
   "id": "f9e8c98c-e0bd-4e7a-bb33-b3236724209c",
   "metadata": {},
   "source": [
    "- all possible result combinations"
   ]
  },
  {
   "cell_type": "code",
   "execution_count": 4,
   "id": "0a11f10a-1ade-45a8-ac1a-839fe2819706",
   "metadata": {},
   "outputs": [],
   "source": [
    "combinations = list(itertools.product(*eyes))"
   ]
  },
  {
   "cell_type": "markdown",
   "id": "52292d1b-aaf6-425e-929d-02bfbae38740",
   "metadata": {},
   "source": [
    "- eye-total for each combination"
   ]
  },
  {
   "cell_type": "code",
   "execution_count": 5,
   "id": "316217e4-ecc7-47ce-a4e1-95dfe37ae50e",
   "metadata": {},
   "outputs": [],
   "source": [
    "eyesum = [sum(combination) for combination in combinations]"
   ]
  },
  {
   "cell_type": "markdown",
   "id": "9c765993-b4ee-4886-b63e-93eb60a5aa5b",
   "metadata": {},
   "source": [
    "- probability distribution"
   ]
  },
  {
   "cell_type": "code",
   "execution_count": 6,
   "id": "480bca06-b0a2-43b6-bfb3-93297c5c78bf",
   "metadata": {},
   "outputs": [],
   "source": [
    "N = np.histogram(eyesum, bins = np.arange(min(eyesum), min(eyesum) + len(set(eyesum)) + 1), density=True)"
   ]
  },
  {
   "cell_type": "markdown",
   "id": "616ecc5d-05d0-4038-be44-90f9e6915db8",
   "metadata": {},
   "source": [
    "## plot probability distribution"
   ]
  },
  {
   "cell_type": "code",
   "execution_count": 8,
   "id": "20650e6a-9084-402c-9592-6b5a0ac51cf1",
   "metadata": {},
   "outputs": [
    {
     "data": {
      "image/png": "[encoded data removed]",
      "text/plain": [
       "<Figure size 432x288 with 1 Axes>"
      ]
     },
     "metadata": {
      "needs_background": "light"
     },
     "output_type": "display_data"
    }
   ],
   "source": [
    "ax = plt.figure().gca()\n",
    "plt.bar(N[1][:-1], N[0]*100, width=0.8)\n",
    "plt.title(f'probabilities of eye totals, dice: {dice}')\n",
    "plt.xlabel('eye sum')\n",
    "plt.ylabel('probability / %')\n",
    "ax.xaxis.set_major_locator(MaxNLocator(integer=True))   # integer ticks"
   ]
  }
 ],
 "metadata": {
  "kernelspec": {
   "display_name": "Python 3",
   "language": "python",
   "name": "python3"
  },
  "language_info": {
   "codemirror_mode": {
    "name": "ipython",
    "version": 3
   },
   "file_extension": ".py",
   "mimetype": "text/x-python",
   "name": "python",
   "nbconvert_exporter": "python",
   "pygments_lexer": "ipython3",
   "version": "3.8.9"
  }
 },
 "nbformat": 4,
 "nbformat_minor": 5
}
