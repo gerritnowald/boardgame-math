{
 "cells": [
  {
   "attachments": {},
   "cell_type": "markdown",
   "id": "27884c7b-1cc4-42f6-bd0e-365d16e0a208",
   "metadata": {},
   "source": [
    "# Battles in Root\n",
    "In the boardgame [Root](https://en.wikipedia.org/wiki/Root_(board_game)), battles are fought by rolling two 12-sided dice, both showing the numbers 0 to 3 three times each. The dice score determines the hits the factions can make and thus the losses each other faction suffers. The attacker and the Woodland Alliance as a special case always get the higher die score.\n",
    "\n",
    "This notebook calculates the probability distribution of losses for both factions in a battle.\n",
    "- possible die scores:"
   ]
  },
  {
   "cell_type": "code",
   "execution_count": 1,
   "id": "d1401f8b-1a1c-44b9-93f8-49a81715e486",
   "metadata": {},
   "outputs": [
    {
     "name": "stdout",
     "output_type": "stream",
     "text": [
      "[0, 1, 2, 3]\n"
     ]
    }
   ],
   "source": [
    "die = [n for n in range(4)]\n",
    "print(die)"
   ]
  },
  {
   "cell_type": "markdown",
   "id": "0924194d-820e-4bc2-9b6d-8def07f49f01",
   "metadata": {},
   "source": [
    "- all possible roll combinations:"
   ]
  },
  {
   "cell_type": "code",
   "execution_count": 2,
   "id": "1569ed2d-95a6-4338-a7e2-050d8eea2281",
   "metadata": {},
   "outputs": [
    {
     "name": "stdout",
     "output_type": "stream",
     "text": [
      "[[0, 0], [0, 1], [0, 2], [0, 3], [1, 0], [1, 1], [1, 2], [1, 3], [2, 0], [2, 1], [2, 2], [2, 3], [3, 0], [3, 1], [3, 2], [3, 3]]\n"
     ]
    }
   ],
   "source": [
    "combinations = [[die1,die2] for die1 in die for die2 in die]\n",
    "print(combinations)"
   ]
  },
  {
   "cell_type": "markdown",
   "id": "450a59bb-dd70-4e6b-8c39-7d990a7b27c6",
   "metadata": {},
   "source": [
    "- losses (attacker gets the higher die score):"
   ]
  },
  {
   "cell_type": "code",
   "execution_count": 3,
   "id": "0592f4f1-fdb0-4e73-924b-44b457822188",
   "metadata": {},
   "outputs": [
    {
     "name": "stdout",
     "output_type": "stream",
     "text": [
      "attacker: [0, 0, 0, 0, 0, 1, 1, 1, 0, 1, 2, 2, 0, 1, 2, 3]\n",
      "defender: [0, 1, 2, 3, 1, 1, 2, 3, 2, 2, 2, 3, 3, 3, 3, 3]\n"
     ]
    }
   ],
   "source": [
    "combination_sorted = [sorted(combination) for combination in combinations]\n",
    "attacker_losses = [combination[0] for combination in combination_sorted]\n",
    "defender_losses = [combination[1] for combination in combination_sorted]\n",
    "print(f'attacker: {attacker_losses}')\n",
    "print(f'defender: {defender_losses}')"
   ]
  },
  {
   "cell_type": "markdown",
   "id": "a50c285b-7a00-48f6-b85b-9be25e592b93",
   "metadata": {},
   "source": [
    "- expected losses:"
   ]
  },
  {
   "cell_type": "code",
   "execution_count": 4,
   "id": "e6a968b0-b111-45cb-bd7d-69b3cdc8b819",
   "metadata": {},
   "outputs": [
    {
     "name": "stdout",
     "output_type": "stream",
     "text": [
      "attacker: 0.875\n",
      "defender: 2.125\n"
     ]
    }
   ],
   "source": [
    "import numpy as np\n",
    "print(f'attacker: {np.mean(attacker_losses)}')\n",
    "print(f'defender: {np.mean(defender_losses)}')"
   ]
  },
  {
   "cell_type": "markdown",
   "id": "4ec9fe2e-ddff-4794-bde4-99d51afcb4ca",
   "metadata": {},
   "source": [
    "- probability distribution of losses:"
   ]
  },
  {
   "cell_type": "code",
   "execution_count": 5,
   "id": "09c38ffd-eda1-44db-a09f-3f57d1427afa",
   "metadata": {},
   "outputs": [
    {
     "data": {
      "image/png": "[encoded data removed]",
      "text/plain": [
       "<Figure size 432x288 with 1 Axes>"
      ]
     },
     "metadata": {
      "needs_background": "light"
     },
     "output_type": "display_data"
    }
   ],
   "source": [
    "from matplotlib import pyplot as plt\n",
    "from matplotlib.ticker import MaxNLocator\n",
    "\n",
    "N_attacker = np.histogram(attacker_losses, bins = np.arange(min(attacker_losses), min(attacker_losses) + len(set(attacker_losses)) + 1), density=True)\n",
    "N_defender = np.histogram(defender_losses, bins = np.arange(min(defender_losses), min(defender_losses) + len(set(defender_losses)) + 1), density=True)\n",
    "\n",
    "ax = plt.figure().gca()\n",
    "plt.bar(N_attacker[1][:-1] - 0.2, N_attacker[0]*100, width=0.4, label='Attacker')\n",
    "plt.bar(N_defender[1][:-1] + 0.2, N_defender[0]*100, width=0.4, label='Defender')\n",
    "plt.legend()\n",
    "plt.xlabel('losses')\n",
    "plt.ylabel('probability / %')\n",
    "ax.xaxis.set_major_locator(MaxNLocator(integer=True))   # integer ticks"
   ]
  }
 ],
 "metadata": {
  "kernelspec": {
   "display_name": "Python 3 (ipykernel)",
   "language": "python",
   "name": "python3"
  },
  "language_info": {
   "codemirror_mode": {
    "name": "ipython",
    "version": 3
   },
   "file_extension": ".py",
   "mimetype": "text/x-python",
   "name": "python",
   "nbconvert_exporter": "python",
   "pygments_lexer": "ipython3",
   "version": "3.10.1"
  }
 },
 "nbformat": 4,
 "nbformat_minor": 5
}
