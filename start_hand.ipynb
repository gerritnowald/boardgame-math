{
 "cells": [
  {
   "cell_type": "markdown",
   "id": "c52d7542-7a19-4dd3-add2-ba3a22de504f",
   "metadata": {},
   "source": [
    "# Probability to have at least 1 certain card in hand\n",
    "    by Gerrit Nowald\n",
    "In the trading card game Magic: The Gathering, a normal sized deck has a minimum of 60 cards.\n",
    "\n",
    "Each individual card (except standard lands) is allowed a maximum of 4 times in the deck.\n",
    "\n",
    "Many strategies rely on having a certain card in the start hand, which is 7 cards.\n",
    "\n",
    "How big is the probability to have at least 1 of those certain cards in your start hand?\n",
    "\n",
    "## input\n",
    "- total cards in deck:"
   ]
  },
  {
   "cell_type": "code",
   "execution_count": 1,
   "id": "03e86930-bdd0-4327-ab45-f59467be2de2",
   "metadata": {},
   "outputs": [],
   "source": [
    "Deck = 60"
   ]
  },
  {
   "cell_type": "markdown",
   "id": "1dfb28b9-a72b-4335-aadd-e7a261e25cb5",
   "metadata": {},
   "source": [
    "- cards in start hand:"
   ]
  },
  {
   "cell_type": "code",
   "execution_count": 2,
   "id": "7ed51bca-2b89-4919-92fa-7a82be518f11",
   "metadata": {},
   "outputs": [],
   "source": [
    "Hand = 7"
   ]
  },
  {
   "cell_type": "markdown",
   "id": "926b0f67-6dcb-453f-a774-edc7b712a4e2",
   "metadata": {},
   "source": [
    "- total number of certain card in deck (which we like to have in the start hand):"
   ]
  },
  {
   "cell_type": "code",
   "execution_count": 3,
   "id": "6f963eff-1308-426b-bd38-011182cff2f2",
   "metadata": {},
   "outputs": [],
   "source": [
    "Cards = 4"
   ]
  },
  {
   "cell_type": "markdown",
   "id": "01134aed-d3cb-46f3-85ce-a0b9825bed10",
   "metadata": {},
   "source": [
    "## calculation\n",
    "It is easier to calculate the counter-propability to have none of the certain cards in hand.\n",
    "\n",
    "Drawing the start hand can be treated as one by one draws from the deck.\n",
    "\n",
    "For the first draw, the chance to not having drawn one of the certain cards is (Deck-Cards)/Deck.\n",
    "\n",
    "For each succeeding draw, Deck is decreased by 1.\n",
    "\n",
    "The total propability to have none of the certain cards in hand is the product of the individual draws."
   ]
  },
  {
   "cell_type": "code",
   "execution_count": 4,
   "id": "e4ce5af8-b9da-4b71-83e8-0c97a980bf2a",
   "metadata": {},
   "outputs": [],
   "source": [
    "p = 1\n",
    "for n in range(0, Hand):\n",
    "    p *= (Deck-Cards-n)/(Deck-n)    # chance to have none of the certain card in hand\n",
    "p = 1 - p                           # counter propability"
   ]
  },
  {
   "cell_type": "markdown",
   "id": "d08cf7f8-8994-41cf-9383-1e56d7cd56fb",
   "metadata": {},
   "source": [
    "Chance to have at least 1 card in the start hand:"
   ]
  },
  {
   "cell_type": "code",
   "execution_count": 5,
   "id": "a531d2a5-cc23-4b34-bed7-e30cbc116b4a",
   "metadata": {},
   "outputs": [
    {
     "name": "stdout",
     "output_type": "stream",
     "text": [
      "39.9 %\n"
     ]
    }
   ],
   "source": [
    "print(f'{round(p*100,1)} %')"
   ]
  }
 ],
 "metadata": {
  "kernelspec": {
   "display_name": "Python 3",
   "language": "python",
   "name": "python3"
  },
  "language_info": {
   "codemirror_mode": {
    "name": "ipython",
    "version": 3
   },
   "file_extension": ".py",
   "mimetype": "text/x-python",
   "name": "python",
   "nbconvert_exporter": "python",
   "pygments_lexer": "ipython3",
   "version": "3.8.9"
  }
 },
 "nbformat": 4,
 "nbformat_minor": 5
}
